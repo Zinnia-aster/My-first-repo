{
  "nbformat": 4,
  "nbformat_minor": 0,
  "metadata": {
    "colab": {
      "provenance": [],
      "authorship_tag": "ABX9TyNghh3X0crHLEPEQZcG1qeA",
      "include_colab_link": true
    },
    "kernelspec": {
      "name": "python3",
      "display_name": "Python 3"
    },
    "language_info": {
      "name": "python"
    }
  },
  "cells": [
    {
      "cell_type": "markdown",
      "metadata": {
        "id": "view-in-github",
        "colab_type": "text"
      },
      "source": [
        "<a href=\"https://colab.research.google.com/github/Zinnia-aster/My-first-repo/blob/main/Copy_of_Hidden_Markov_weather_program_.ipynb\" target=\"_parent\"><img src=\"https://colab.research.google.com/assets/colab-badge.svg\" alt=\"Open In Colab\"/></a>"
      ]
    },
    {
      "cell_type": "code",
      "execution_count": null,
      "metadata": {
        "id": "z4sw31B1df_B"
      },
      "outputs": [],
      "source": [
        "!pip install tensorflow-probability"
      ]
    },
    {
      "cell_type": "code",
      "source": [
        "import tensorflow_probability as tfp\n",
        "import tensorflow as tf"
      ],
      "metadata": {
        "id": "LHgrDRfmd_61"
      },
      "execution_count": null,
      "outputs": []
    },
    {
      "cell_type": "code",
      "source": [
        "import tensorflow_probability as tfp\n",
        "import tensorflow as tf\n",
        "\n",
        "tfd = tfp.distributions  # Use tfp.distributions directly\n",
        "initial_distribution = tfd.Categorical(probs=[0.8, 0.2])  # Corrected spelling to 'Categorical'\n",
        "transition_distribution = tfd.Categorical(probs=[[0.7, 0.3], [0.2, 0.8]])  # Corrected spelling to 'Categorical'\n",
        "observation_distribution = tfd.Normal(loc=[0., 15.], scale=[5., 10.])"
      ],
      "metadata": {
        "id": "6VAUhxV8irab"
      },
      "execution_count": null,
      "outputs": []
    },
    {
      "cell_type": "code",
      "source": [
        "model=tfd.HiddenMarkovModel(\n",
        "initial_distribution=initial_distribution,\n",
        "transition_distribution=transition_distribution,\n",
        "observation_distribution=observation_distribution,\n",
        "num_steps=7)"
      ],
      "metadata": {
        "id": "IqW9pIvejMuQ"
      },
      "execution_count": null,
      "outputs": []
    },
    {
      "cell_type": "code",
      "source": [
        "# Instead of using tf.compat.v1.session, use tf.compat.v1.Session\n",
        "mean = model.mean()  # Call mean() as a function\n",
        "# In TF2, eager execution is default. No need for Session unless working with TF1 code\n",
        "print(mean.numpy())"
      ],
      "metadata": {
        "colab": {
          "base_uri": "https://localhost:8080/"
        },
        "id": "vcLy4LSImEhB",
        "outputId": "e1fcde47-ca2d-40fd-f931-c45e54df67c8"
      },
      "execution_count": null,
      "outputs": [
        {
          "output_type": "stream",
          "name": "stdout",
          "text": [
            "[3.        5.9999995 7.4999995 8.25      8.625001  8.812501  8.90625  ]\n"
          ]
        }
      ]
    }
  ]
}